{
 "cells": [
  {
   "cell_type": "code",
   "execution_count": 40,
   "id": "c3c8cf16",
   "metadata": {},
   "outputs": [
    {
     "name": "stdout",
     "output_type": "stream",
     "text": [
      "['multinli_1.0_dev_mismatched.jsonl', 'paper.pdf', '.DS_Store', 'multinli_1.0_train.jsonl', 'multinli_1.0_dev_mismatched.txt', 'Icon\\r', 'multinli_1.0_dev_matched.txt', 'multinli_1.0_dev_matched.jsonl', 'multinli_1.0_train.txt', 'README.txt']\n"
     ]
    }
   ],
   "source": [
    "import os\n",
    "import numpy as np\n",
    "import pandas as pd\n",
    "import matplotlib.pyplot as plt\n",
    "import spacy\n",
    "nlp = spacy.load(\"en_core_web_sm\")\n",
    "# print(os.listdir(\"./input\"))\n",
    "print(os.listdir(\"./multinli_1.0\"))"
   ]
  },
  {
   "cell_type": "code",
   "execution_count": 39,
   "id": "a653b97d",
   "metadata": {},
   "outputs": [
    {
     "data": {
      "text/html": [
       "<div>\n",
       "<style scoped>\n",
       "    .dataframe tbody tr th:only-of-type {\n",
       "        vertical-align: middle;\n",
       "    }\n",
       "\n",
       "    .dataframe tbody tr th {\n",
       "        vertical-align: top;\n",
       "    }\n",
       "\n",
       "    .dataframe thead th {\n",
       "        text-align: right;\n",
       "    }\n",
       "</style>\n",
       "<table border=\"1\" class=\"dataframe\">\n",
       "  <thead>\n",
       "    <tr style=\"text-align: right;\">\n",
       "      <th></th>\n",
       "      <th>annotator_labels</th>\n",
       "      <th>genre</th>\n",
       "      <th>gold_label</th>\n",
       "      <th>pairID</th>\n",
       "      <th>promptID</th>\n",
       "      <th>sentence1</th>\n",
       "      <th>sentence1_binary_parse</th>\n",
       "      <th>sentence1_parse</th>\n",
       "      <th>sentence2</th>\n",
       "      <th>sentence2_binary_parse</th>\n",
       "      <th>sentence2_parse</th>\n",
       "    </tr>\n",
       "  </thead>\n",
       "  <tbody>\n",
       "    <tr>\n",
       "      <th>0</th>\n",
       "      <td>[neutral, entailment, neutral, neutral, neutral]</td>\n",
       "      <td>slate</td>\n",
       "      <td>neutral</td>\n",
       "      <td>63735n</td>\n",
       "      <td>63735</td>\n",
       "      <td>The new rights are nice enough</td>\n",
       "      <td>( ( The ( new rights ) ) ( are ( nice enough )...</td>\n",
       "      <td>(ROOT (S (NP (DT The) (JJ new) (NNS rights)) (...</td>\n",
       "      <td>Everyone really likes the newest benefits</td>\n",
       "      <td>( Everyone ( really ( likes ( the ( newest ben...</td>\n",
       "      <td>(ROOT (S (NP (NN Everyone)) (VP (ADVP (RB real...</td>\n",
       "    </tr>\n",
       "    <tr>\n",
       "      <th>1</th>\n",
       "      <td>[contradiction, contradiction, contradiction, ...</td>\n",
       "      <td>government</td>\n",
       "      <td>contradiction</td>\n",
       "      <td>91383c</td>\n",
       "      <td>91383</td>\n",
       "      <td>This site includes a list of all award winners...</td>\n",
       "      <td>( ( This site ) ( ( includes ( ( ( ( a list ) ...</td>\n",
       "      <td>(ROOT (S (NP (DT This) (NN site)) (VP (VBZ inc...</td>\n",
       "      <td>The Government Executive articles housed on th...</td>\n",
       "      <td>( ( ( The ( Government ( Executive articles ) ...</td>\n",
       "      <td>(ROOT (S (NP (NP (DT The) (NNP Government) (NN...</td>\n",
       "    </tr>\n",
       "    <tr>\n",
       "      <th>2</th>\n",
       "      <td>[entailment, entailment, entailment, entailmen...</td>\n",
       "      <td>telephone</td>\n",
       "      <td>entailment</td>\n",
       "      <td>755e</td>\n",
       "      <td>755</td>\n",
       "      <td>uh i don't know i i have mixed emotions about ...</td>\n",
       "      <td>( ( ( ( uh ( i ( ( do n't ) ( know ( ( i i ) (...</td>\n",
       "      <td>(ROOT (SINV (S (S (INTJ (UH uh)) (NP (FW i)) (...</td>\n",
       "      <td>I like him for the most part, but would still ...</td>\n",
       "      <td>( I ( ( ( ( ( ( like him ) ( for ( the ( most ...</td>\n",
       "      <td>(ROOT (S (NP (PRP I)) (VP (VP (VBP like) (NP (...</td>\n",
       "    </tr>\n",
       "    <tr>\n",
       "      <th>3</th>\n",
       "      <td>[contradiction, contradiction, contradiction, ...</td>\n",
       "      <td>telephone</td>\n",
       "      <td>contradiction</td>\n",
       "      <td>78013c</td>\n",
       "      <td>78013</td>\n",
       "      <td>yeah i i think my favorite restaurant is alway...</td>\n",
       "      <td>( yeah ( ( i i ) ( think ( ( my ( favorite res...</td>\n",
       "      <td>(ROOT (S (VP (VB yeah) (NP (NP (FW i) (FW i)) ...</td>\n",
       "      <td>My favorite restaurants are always at least a ...</td>\n",
       "      <td>( ( My ( favorite restaurants ) ) ( ( ( ( are ...</td>\n",
       "      <td>(ROOT (S (NP (PRP$ My) (JJ favorite) (NNS rest...</td>\n",
       "    </tr>\n",
       "    <tr>\n",
       "      <th>4</th>\n",
       "      <td>[contradiction, contradiction, contradiction, ...</td>\n",
       "      <td>telephone</td>\n",
       "      <td>contradiction</td>\n",
       "      <td>96377c</td>\n",
       "      <td>96377</td>\n",
       "      <td>i don't know um do you do a lot of camping</td>\n",
       "      <td>( i ( ( do n't ) ( know ( um ( do ( you ( do (...</td>\n",
       "      <td>(ROOT (S (NP (FW i)) (VP (VBP do) (RB n't) (VP...</td>\n",
       "      <td>I know exactly.</td>\n",
       "      <td>( I ( ( know exactly ) . ) )</td>\n",
       "      <td>(ROOT (S (NP (PRP I)) (VP (VBP know) (ADVP (RB...</td>\n",
       "    </tr>\n",
       "  </tbody>\n",
       "</table>\n",
       "</div>"
      ],
      "text/plain": [
       "                                    annotator_labels       genre  \\\n",
       "0   [neutral, entailment, neutral, neutral, neutral]       slate   \n",
       "1  [contradiction, contradiction, contradiction, ...  government   \n",
       "2  [entailment, entailment, entailment, entailmen...   telephone   \n",
       "3  [contradiction, contradiction, contradiction, ...   telephone   \n",
       "4  [contradiction, contradiction, contradiction, ...   telephone   \n",
       "\n",
       "      gold_label  pairID  promptID  \\\n",
       "0        neutral  63735n     63735   \n",
       "1  contradiction  91383c     91383   \n",
       "2     entailment    755e       755   \n",
       "3  contradiction  78013c     78013   \n",
       "4  contradiction  96377c     96377   \n",
       "\n",
       "                                           sentence1  \\\n",
       "0                     The new rights are nice enough   \n",
       "1  This site includes a list of all award winners...   \n",
       "2  uh i don't know i i have mixed emotions about ...   \n",
       "3  yeah i i think my favorite restaurant is alway...   \n",
       "4         i don't know um do you do a lot of camping   \n",
       "\n",
       "                              sentence1_binary_parse  \\\n",
       "0  ( ( The ( new rights ) ) ( are ( nice enough )...   \n",
       "1  ( ( This site ) ( ( includes ( ( ( ( a list ) ...   \n",
       "2  ( ( ( ( uh ( i ( ( do n't ) ( know ( ( i i ) (...   \n",
       "3  ( yeah ( ( i i ) ( think ( ( my ( favorite res...   \n",
       "4  ( i ( ( do n't ) ( know ( um ( do ( you ( do (...   \n",
       "\n",
       "                                     sentence1_parse  \\\n",
       "0  (ROOT (S (NP (DT The) (JJ new) (NNS rights)) (...   \n",
       "1  (ROOT (S (NP (DT This) (NN site)) (VP (VBZ inc...   \n",
       "2  (ROOT (SINV (S (S (INTJ (UH uh)) (NP (FW i)) (...   \n",
       "3  (ROOT (S (VP (VB yeah) (NP (NP (FW i) (FW i)) ...   \n",
       "4  (ROOT (S (NP (FW i)) (VP (VBP do) (RB n't) (VP...   \n",
       "\n",
       "                                           sentence2  \\\n",
       "0         Everyone really likes the newest benefits    \n",
       "1  The Government Executive articles housed on th...   \n",
       "2  I like him for the most part, but would still ...   \n",
       "3  My favorite restaurants are always at least a ...   \n",
       "4                                    I know exactly.   \n",
       "\n",
       "                              sentence2_binary_parse  \\\n",
       "0  ( Everyone ( really ( likes ( the ( newest ben...   \n",
       "1  ( ( ( The ( Government ( Executive articles ) ...   \n",
       "2  ( I ( ( ( ( ( ( like him ) ( for ( the ( most ...   \n",
       "3  ( ( My ( favorite restaurants ) ) ( ( ( ( are ...   \n",
       "4                       ( I ( ( know exactly ) . ) )   \n",
       "\n",
       "                                     sentence2_parse  \n",
       "0  (ROOT (S (NP (NN Everyone)) (VP (ADVP (RB real...  \n",
       "1  (ROOT (S (NP (NP (DT The) (NNP Government) (NN...  \n",
       "2  (ROOT (S (NP (PRP I)) (VP (VP (VBP like) (NP (...  \n",
       "3  (ROOT (S (NP (PRP$ My) (JJ favorite) (NNS rest...  \n",
       "4  (ROOT (S (NP (PRP I)) (VP (VBP know) (ADVP (RB...  "
      ]
     },
     "execution_count": 39,
     "metadata": {},
     "output_type": "execute_result"
    }
   ],
   "source": [
    "# df = pd.read_json(\"./input/multinli_0.9_test_matched_unlabeled.jsonl\", lines=True)\n",
    "df = pd.read_json(\"./multinli_1.0/multinli_1.0_dev_matched.jsonl\", lines=True)\n",
    "df.head(5)"
   ]
  },
  {
   "cell_type": "code",
   "execution_count": 14,
   "id": "b86027f5",
   "metadata": {},
   "outputs": [
    {
     "data": {
      "text/html": [
       "<div>\n",
       "<style scoped>\n",
       "    .dataframe tbody tr th:only-of-type {\n",
       "        vertical-align: middle;\n",
       "    }\n",
       "\n",
       "    .dataframe tbody tr th {\n",
       "        vertical-align: top;\n",
       "    }\n",
       "\n",
       "    .dataframe thead th {\n",
       "        text-align: right;\n",
       "    }\n",
       "</style>\n",
       "<table border=\"1\" class=\"dataframe\">\n",
       "  <thead>\n",
       "    <tr style=\"text-align: right;\">\n",
       "      <th></th>\n",
       "      <th>index</th>\n",
       "      <th>genre</th>\n",
       "      <th>sentence1</th>\n",
       "    </tr>\n",
       "  </thead>\n",
       "  <tbody>\n",
       "    <tr>\n",
       "      <th>0</th>\n",
       "      <td>0</td>\n",
       "      <td>slate</td>\n",
       "      <td>That which binds together Chinese.</td>\n",
       "    </tr>\n",
       "    <tr>\n",
       "      <th>1</th>\n",
       "      <td>1</td>\n",
       "      <td>government</td>\n",
       "      <td>The actual length of an individual worker's H-...</td>\n",
       "    </tr>\n",
       "    <tr>\n",
       "      <th>2</th>\n",
       "      <td>2</td>\n",
       "      <td>fiction</td>\n",
       "      <td>Every man I put down left me empty.</td>\n",
       "    </tr>\n",
       "    <tr>\n",
       "      <th>3</th>\n",
       "      <td>3</td>\n",
       "      <td>telephone</td>\n",
       "      <td>and uh i really think that if uh like after se...</td>\n",
       "    </tr>\n",
       "    <tr>\n",
       "      <th>4</th>\n",
       "      <td>4</td>\n",
       "      <td>telephone</td>\n",
       "      <td>yep yeah yeah it was i ended up going into ban...</td>\n",
       "    </tr>\n",
       "  </tbody>\n",
       "</table>\n",
       "</div>"
      ],
      "text/plain": [
       "   index       genre                                          sentence1\n",
       "0      0       slate                 That which binds together Chinese.\n",
       "1      1  government  The actual length of an individual worker's H-...\n",
       "2      2     fiction                Every man I put down left me empty.\n",
       "3      3   telephone  and uh i really think that if uh like after se...\n",
       "4      4   telephone  yep yeah yeah it was i ended up going into ban..."
      ]
     },
     "execution_count": 14,
     "metadata": {},
     "output_type": "execute_result"
    }
   ],
   "source": [
    "data = pd.concat([df[c] for c in [\"genre\", \"sentence1\"]], axis=1).reset_index()\n",
    "data.head(5)"
   ]
  },
  {
   "cell_type": "code",
   "execution_count": 15,
   "id": "bbfb4510",
   "metadata": {},
   "outputs": [
    {
     "data": {
      "text/plain": [
       "<AxesSubplot:>"
      ]
     },
     "execution_count": 15,
     "metadata": {},
     "output_type": "execute_result"
    },
    {
     "data": {
      "image/png": "[encoded data removed]",
      "text/plain": [
       "<Figure size 432x288 with 1 Axes>"
      ]
     },
     "metadata": {
      "needs_background": "light"
     },
     "output_type": "display_data"
    }
   ],
   "source": [
    "data[\"genre\"].value_counts().plot(kind=\"bar\")"
   ]
  },
  {
   "cell_type": "code",
   "execution_count": 38,
   "id": "987077fe",
   "metadata": {},
   "outputs": [
    {
     "name": "stdout",
     "output_type": "stream",
     "text": [
      "fiction       1978\n",
      "travel        1964\n",
      "telephone     1955\n",
      "government    1953\n",
      "slate         1946\n",
      "Name: genre, dtype: int64\n"
     ]
    }
   ],
   "source": [
    "print(data[\"genre\"].value_counts())"
   ]
  },
  {
   "cell_type": "code",
   "execution_count": 16,
   "id": "289c563c",
   "metadata": {},
   "outputs": [
    {
     "data": {
      "text/plain": [
       "<AxesSubplot:ylabel='Frequency'>"
      ]
     },
     "execution_count": 16,
     "metadata": {},
     "output_type": "execute_result"
    },
    {
     "data": {
      "image/png": "[encoded data removed]",
      "text/plain": [
       "<Figure size 432x288 with 1 Axes>"
      ]
     },
     "metadata": {
      "needs_background": "light"
     },
     "output_type": "display_data"
    }
   ],
   "source": [
    "data[\"length\"] = data[\"sentence1\"].apply(len)\n",
    "data[\"length\"].plot.hist(alpha=0.5, bins=20)"
   ]
  },
  {
   "cell_type": "code",
   "execution_count": 17,
   "id": "eed0d4fb",
   "metadata": {},
   "outputs": [
    {
     "data": {
      "text/plain": [
       "<AxesSubplot:ylabel='Frequency'>"
      ]
     },
     "execution_count": 17,
     "metadata": {},
     "output_type": "execute_result"
    },
    {
     "data": {
      "image/png": "[encoded data removed]",
      "text/plain": [
       "<Figure size 432x288 with 1 Axes>"
      ]
     },
     "metadata": {
      "needs_background": "light"
     },
     "output_type": "display_data"
    }
   ],
   "source": [
    "columns = data.groupby(\"genre\").groups.keys()\n",
    "def filter_and_measure_length(d, c):\n",
    "    lengths = d[d[\"genre\"] == c][\"length\"]\n",
    "    lengths = lengths.rename(c).reset_index(drop=True)\n",
    "    return lengths\n",
    "\n",
    "pd.concat([filter_and_measure_length(data, c) for c in columns], axis=1).plot.hist(alpha=0.5, bins=20)"
   ]
  },
  {
   "cell_type": "code",
   "execution_count": 18,
   "id": "cf66872e",
   "metadata": {},
   "outputs": [
    {
     "data": {
      "text/plain": [
       "array([\"um you know i'm not sure i'm not positive i didn't i didn't really think about that i just remember trying to figure out where you could get that was real close to the good section but in the little bit cheaper but not that i'll ever go i hadn't been to a Cowboys game last time last time i went to the Cowboys game was during that um NFL strike or the when they had the scab team teams in there and it was the uh Dallas and Washington Redskins game and i went because my dad can usually get a hold of some free tickets because a lot of those doctors have season tickets and they um if they're not going to use them they'll give them to somebody else so my dad i went with my dad to a game that one time but that wasn't a real you know it was it was the scab teams it was kind of you know it was kind of different i guess and before that it's been quite a few years i've been wanting to go to a game i just never never have gotten around to it so maybe this year Texans  cheap cheaper i guess\",\n",
       "       \"um you know i'm not sure i'm not positive i didn't i didn't really think about that i just remember trying to figure out where you could get that was real close to the good section but in the little bit cheaper but not that i'll ever go i hadn't been to a Cowboys game last time last time i went to the Cowboys game was during that um NFL strike or the when they had the scab team teams in there and it was the uh Dallas and Washington Redskins game and i went because my dad can usually get a hold of some free tickets because a lot of those doctors have season tickets and they um if they're not going to use them they'll give them to somebody else so my dad i went with my dad to a game that one time but that wasn't a real you know it was it was the scab teams it was kind of you know it was kind of different i guess and before that it's been quite a few years i've been wanting to go to a game i just never never have gotten around to it so maybe this year Texans  cheap cheaper i guess\",\n",
       "       \"um you know i'm not sure i'm not positive i didn't i didn't really think about that i just remember trying to figure out where you could get that was real close to the good section but in the little bit cheaper but not that i'll ever go i hadn't been to a Cowboys game last time last time i went to the Cowboys game was during that um NFL strike or the when they had the scab team teams in there and it was the uh Dallas and Washington Redskins game and i went because my dad can usually get a hold of some free tickets because a lot of those doctors have season tickets and they um if they're not going to use them they'll give them to somebody else so my dad i went with my dad to a game that one time but that wasn't a real you know it was it was the scab teams it was kind of you know it was kind of different i guess and before that it's been quite a few years i've been wanting to go to a game i just never never have gotten around to it so maybe this year Texans  cheap cheaper i guess\"],\n",
       "      dtype=object)"
      ]
     },
     "execution_count": 18,
     "metadata": {},
     "output_type": "execute_result"
    }
   ],
   "source": [
    "data.sort_values(\"length\")[\"sentence1\"].tail(3).values"
   ]
  },
  {
   "cell_type": "code",
   "execution_count": 19,
   "id": "c909a73f",
   "metadata": {},
   "outputs": [
    {
     "data": {
      "text/plain": [
       "array(['Sort of.', 'Besancon', 'Sort of.'], dtype=object)"
      ]
     },
     "execution_count": 19,
     "metadata": {},
     "output_type": "execute_result"
    }
   ],
   "source": [
    "data.sort_values(\"length\")[\"sentence1\"].head(3).values"
   ]
  },
  {
   "cell_type": "code",
   "execution_count": 20,
   "id": "81d3cd1b",
   "metadata": {},
   "outputs": [
    {
     "name": "stdout",
     "output_type": "stream",
     "text": [
      "3332\n"
     ]
    }
   ],
   "source": [
    "duplicates = data[data.duplicated([\"sentence1\"], keep=False)].groupby(\"sentence1\").groups.keys()\n",
    "print(len(duplicates))"
   ]
  },
  {
   "cell_type": "code",
   "execution_count": 21,
   "id": "73838846",
   "metadata": {},
   "outputs": [
    {
     "name": "stdout",
     "output_type": "stream",
     "text": [
      "Without duplicate, data size becomes 9796 => 3335\n"
     ]
    }
   ],
   "source": [
    "data_except_d = data.drop_duplicates([\"sentence1\"])\n",
    "print(\"Without duplicate, data size becomes {} => {}\".format(len(data), len(data_except_d)))"
   ]
  },
  {
   "cell_type": "code",
   "execution_count": 22,
   "id": "ba6621fe",
   "metadata": {},
   "outputs": [
    {
     "data": {
      "text/plain": [
       "<AxesSubplot:>"
      ]
     },
     "execution_count": 22,
     "metadata": {},
     "output_type": "execute_result"
    },
    {
     "data": {
      "image/png": "[encoded data removed]",
      "text/plain": [
       "<Figure size 432x288 with 1 Axes>"
      ]
     },
     "metadata": {
      "needs_background": "light"
     },
     "output_type": "display_data"
    }
   ],
   "source": [
    "data_except_d[\"genre\"].value_counts().plot(kind=\"bar\")"
   ]
  },
  {
   "cell_type": "code",
   "execution_count": 23,
   "id": "e5e8b7bc",
   "metadata": {},
   "outputs": [
    {
     "data": {
      "text/plain": [
       "array([\"Legal Services programs may record and report the provision of legal assistance as a case only  (a) the client is financially and otherwise eligible to receive assistance under the LSC Act, regulations, and other applicable law; the client's case is within program priorities (or is an emergency case accepted under the program's emergency case acceptance procedures); the legal services program has actually accepted the client for service through its intake system or another established procedure for ensuring client eligibility; (b) the type of legal assistance provided to the client is not prohibited by the LSC Act, regulations, or other applicable law (e.g.\",\n",
       "       \"um i  am quite positive on the things that i have seen happen recently relative to women in both in society and in the work place uh there's no doubt about the fact that when i first was first graduated from college the impression was that a woman's career would consist of a childbearing years and perhaps a return to the office but not necessarily uh now i think the change that i've seen as much as anything is one where couples uh are more carefully planning their intention on how to share both share homemaking duties and also how women will uh have their children and then deliberately sort of plan how they go back to the work place and i guess that's a significant change that of i've both participated in and and noticed\",\n",
       "       \"um you know i'm not sure i'm not positive i didn't i didn't really think about that i just remember trying to figure out where you could get that was real close to the good section but in the little bit cheaper but not that i'll ever go i hadn't been to a Cowboys game last time last time i went to the Cowboys game was during that um NFL strike or the when they had the scab team teams in there and it was the uh Dallas and Washington Redskins game and i went because my dad can usually get a hold of some free tickets because a lot of those doctors have season tickets and they um if they're not going to use them they'll give them to somebody else so my dad i went with my dad to a game that one time but that wasn't a real you know it was it was the scab teams it was kind of you know it was kind of different i guess and before that it's been quite a few years i've been wanting to go to a game i just never never have gotten around to it so maybe this year Texans  cheap cheaper i guess\"],\n",
       "      dtype=object)"
      ]
     },
     "execution_count": 23,
     "metadata": {},
     "output_type": "execute_result"
    }
   ],
   "source": [
    "data_except_d.sort_values(\"length\")[\"sentence1\"].tail(3).values"
   ]
  },
  {
   "cell_type": "code",
   "execution_count": 24,
   "id": "54758119",
   "metadata": {},
   "outputs": [
    {
     "data": {
      "text/plain": [
       "array(['Sort of.', 'Besancon', \"we'll see\"], dtype=object)"
      ]
     },
     "execution_count": 24,
     "metadata": {},
     "output_type": "execute_result"
    }
   ],
   "source": [
    "data_except_d.sort_values(\"length\")[\"sentence1\"].head(3).values"
   ]
  },
  {
   "cell_type": "code",
   "execution_count": 25,
   "id": "524d402c",
   "metadata": {},
   "outputs": [
    {
     "data": {
      "text/plain": [
       "array([\"They're just not permitted to express this belief.)\",\n",
       "       'There are fewer boats now than in the past; many boat people, especially the younger generation, have moved to housing projects.',\n",
       "       'But you know what, this is nothing.', \"no isn't that surprising\",\n",
       "       'The first time was in Italy.', 'There was silence. '],\n",
       "      dtype=object)"
      ]
     },
     "execution_count": 25,
     "metadata": {},
     "output_type": "execute_result"
    }
   ],
   "source": [
    "def get_middle(df, window=3):\n",
    "    center = int(len(df) / 2)\n",
    "    middle = df.iloc[center-window:center+window]\n",
    "    return middle.head(window * 2)\n",
    "get_middle(data_except_d)[\"sentence1\"].values"
   ]
  },
  {
   "cell_type": "code",
   "execution_count": 26,
   "id": "08602498",
   "metadata": {},
   "outputs": [
    {
     "name": "stdout",
     "output_type": "stream",
     "text": [
      "['we', \"'ll\", 'see']\n"
     ]
    }
   ],
   "source": [
    "# Basic spaCy \n",
    "print([t.text for t in nlp(\"we'll see\")])"
   ]
  },
  {
   "cell_type": "code",
   "execution_count": 27,
   "id": "849ec490",
   "metadata": {},
   "outputs": [
    {
     "name": "stderr",
     "output_type": "stream",
     "text": [
      "/var/folders/wc/d4s68fh54f7b70phx0bl9l7r0000gn/T/ipykernel_24831/501062581.py:1: SettingWithCopyWarning: \n",
      "A value is trying to be set on a copy of a slice from a DataFrame.\n",
      "Try using .loc[row_indexer,col_indexer] = value instead\n",
      "\n",
      "See the caveats in the documentation: https://pandas.pydata.org/pandas-docs/stable/user_guide/indexing.html#returning-a-view-versus-a-copy\n",
      "  data_except_d[\"word_count\"] = data_except_d[\"sentence1\"].apply(lambda x: len(nlp(x)))\n"
     ]
    }
   ],
   "source": [
    "data_except_d[\"word_count\"] = data_except_d[\"sentence1\"].apply(lambda x: len(nlp(x)))"
   ]
  },
  {
   "cell_type": "code",
   "execution_count": 28,
   "id": "2d9a7cfb",
   "metadata": {},
   "outputs": [
    {
     "data": {
      "text/plain": [
       "<AxesSubplot:ylabel='Frequency'>"
      ]
     },
     "execution_count": 28,
     "metadata": {},
     "output_type": "execute_result"
    },
    {
     "data": {
      "image/png": "[encoded data removed]",
      "text/plain": [
       "<Figure size 432x288 with 1 Axes>"
      ]
     },
     "metadata": {
      "needs_background": "light"
     },
     "output_type": "display_data"
    }
   ],
   "source": [
    "data_except_d[\"word_count\"].plot.hist(bins=10)"
   ]
  },
  {
   "cell_type": "code",
   "execution_count": 29,
   "id": "4eff7999",
   "metadata": {},
   "outputs": [
    {
     "name": "stdout",
     "output_type": "stream",
     "text": [
      "Extract appropriate length sentences, data size becomes 3335 => 2211\n"
     ]
    }
   ],
   "source": [
    "data_filtered = data_except_d[(3 <= data_except_d[\"word_count\"]) & (data_except_d[\"word_count\"] <= 25)]\n",
    "print(\"Extract appropriate length sentences, data size becomes {} => {}\".format(len(data_except_d), len(data_filtered)))"
   ]
  },
  {
   "cell_type": "code",
   "execution_count": 30,
   "id": "94bf4714",
   "metadata": {},
   "outputs": [
    {
     "data": {
      "text/plain": [
       "<AxesSubplot:>"
      ]
     },
     "execution_count": 30,
     "metadata": {},
     "output_type": "execute_result"
    },
    {
     "data": {
      "image/png": "[encoded data removed]",
      "text/plain": [
       "<Figure size 432x288 with 1 Axes>"
      ]
     },
     "metadata": {
      "needs_background": "light"
     },
     "output_type": "display_data"
    }
   ],
   "source": [
    "data_filtered[\"genre\"].value_counts().plot(kind=\"bar\")"
   ]
  },
  {
   "cell_type": "code",
   "execution_count": 31,
   "id": "4eb9d389",
   "metadata": {},
   "outputs": [
    {
     "data": {
      "text/plain": [
       "array(['First, since evaluators often needed simultaneous study at several sites, they needed several observers, which created issues of coordination and interpretation.',\n",
       "       'Participants shared experiences about these transformations and acknowledged the benefits of reconfiguration, as programs complete the critical work of reorganization.',\n",
       "       'The state has also recently adopted statewide priorities for connectivity and communication, developed minimum technology standards and created mechanisms to share best practices.'],\n",
       "      dtype=object)"
      ]
     },
     "execution_count": 31,
     "metadata": {},
     "output_type": "execute_result"
    }
   ],
   "source": [
    "data_filtered.sort_values(\"length\")[\"sentence1\"].tail(3).values"
   ]
  },
  {
   "cell_type": "code",
   "execution_count": 32,
   "id": "49ced4e3",
   "metadata": {},
   "outputs": [
    {
     "data": {
      "text/plain": [
       "array(['Sort of.', 'I sighed.', 'Fix this.', 'i mean it', \"we'll see\"],\n",
       "      dtype=object)"
      ]
     },
     "execution_count": 32,
     "metadata": {},
     "output_type": "execute_result"
    }
   ],
   "source": [
    "data_filtered.sort_values(\"length\")[\"sentence1\"].head(5).values"
   ]
  },
  {
   "cell_type": "code",
   "execution_count": 33,
   "id": "ce7432b7",
   "metadata": {},
   "outputs": [
    {
     "data": {
      "text/plain": [
       "fiction       583\n",
       "slate         460\n",
       "telephone     402\n",
       "government    387\n",
       "travel        379\n",
       "Name: genre, dtype: int64"
      ]
     },
     "execution_count": 33,
     "metadata": {},
     "output_type": "execute_result"
    }
   ],
   "source": [
    "data_filtered[\"genre\"].value_counts()"
   ]
  },
  {
   "cell_type": "code",
   "execution_count": 34,
   "id": "9be848ea",
   "metadata": {},
   "outputs": [
    {
     "data": {
      "text/html": [
       "<div>\n",
       "<style scoped>\n",
       "    .dataframe tbody tr th:only-of-type {\n",
       "        vertical-align: middle;\n",
       "    }\n",
       "\n",
       "    .dataframe tbody tr th {\n",
       "        vertical-align: top;\n",
       "    }\n",
       "\n",
       "    .dataframe thead th {\n",
       "        text-align: right;\n",
       "    }\n",
       "</style>\n",
       "<table border=\"1\" class=\"dataframe\">\n",
       "  <thead>\n",
       "    <tr style=\"text-align: right;\">\n",
       "      <th></th>\n",
       "      <th>genre</th>\n",
       "      <th>level_1</th>\n",
       "      <th>sentence1</th>\n",
       "      <th>length</th>\n",
       "      <th>word_count</th>\n",
       "    </tr>\n",
       "  </thead>\n",
       "  <tbody>\n",
       "    <tr>\n",
       "      <th>0</th>\n",
       "      <td>fiction</td>\n",
       "      <td>2976</td>\n",
       "      <td>All right. I was moving off towards the house ...</td>\n",
       "      <td>85</td>\n",
       "      <td>18</td>\n",
       "    </tr>\n",
       "    <tr>\n",
       "      <th>1</th>\n",
       "      <td>fiction</td>\n",
       "      <td>1420</td>\n",
       "      <td>What? John and the lawyer looked at him startl...</td>\n",
       "      <td>50</td>\n",
       "      <td>11</td>\n",
       "    </tr>\n",
       "    <tr>\n",
       "      <th>2</th>\n",
       "      <td>fiction</td>\n",
       "      <td>316</td>\n",
       "      <td>He opened his mouth, and his laughter was a mo...</td>\n",
       "      <td>82</td>\n",
       "      <td>18</td>\n",
       "    </tr>\n",
       "    <tr>\n",
       "      <th>3</th>\n",
       "      <td>fiction</td>\n",
       "      <td>2121</td>\n",
       "      <td>That tended to be a strategy for us in the old...</td>\n",
       "      <td>52</td>\n",
       "      <td>13</td>\n",
       "    </tr>\n",
       "    <tr>\n",
       "      <th>4</th>\n",
       "      <td>fiction</td>\n",
       "      <td>2753</td>\n",
       "      <td>With that, White was into the fray- in one han...</td>\n",
       "      <td>88</td>\n",
       "      <td>20</td>\n",
       "    </tr>\n",
       "  </tbody>\n",
       "</table>\n",
       "</div>"
      ],
      "text/plain": [
       "     genre  level_1                                          sentence1  \\\n",
       "0  fiction     2976  All right. I was moving off towards the house ...   \n",
       "1  fiction     1420  What? John and the lawyer looked at him startl...   \n",
       "2  fiction      316  He opened his mouth, and his laughter was a mo...   \n",
       "3  fiction     2121  That tended to be a strategy for us in the old...   \n",
       "4  fiction     2753  With that, White was into the fray- in one han...   \n",
       "\n",
       "   length  word_count  \n",
       "0      85          18  \n",
       "1      50          11  \n",
       "2      82          18  \n",
       "3      52          13  \n",
       "4      88          20  "
      ]
     },
     "execution_count": 34,
     "metadata": {},
     "output_type": "execute_result"
    }
   ],
   "source": [
    "data_selected = data_filtered.groupby(\"genre\").apply(lambda x: x.sample(n=379)).drop(columns=[\"genre\", \"index\"]).reset_index()\n",
    "data_selected.head(5)"
   ]
  },
  {
   "cell_type": "code",
   "execution_count": 35,
   "id": "c1a8a9a4",
   "metadata": {},
   "outputs": [
    {
     "data": {
      "text/plain": [
       "<AxesSubplot:>"
      ]
     },
     "execution_count": 35,
     "metadata": {},
     "output_type": "execute_result"
    },
    {
     "data": {
      "image/png": "[encoded data removed]",
      "text/plain": [
       "<Figure size 432x288 with 1 Axes>"
      ]
     },
     "metadata": {
      "needs_background": "light"
     },
     "output_type": "display_data"
    }
   ],
   "source": [
    "data_selected[\"genre\"].value_counts().plot(kind=\"bar\")"
   ]
  },
  {
   "cell_type": "code",
   "execution_count": 37,
   "id": "2afc7a58",
   "metadata": {},
   "outputs": [
    {
     "data": {
      "text/plain": [
       "<AxesSubplot:ylabel='Frequency'>"
      ]
     },
     "execution_count": 37,
     "metadata": {},
     "output_type": "execute_result"
    },
    {
     "data": {
      "image/png": "[encoded data removed]",
      "text/plain": [
       "<Figure size 432x288 with 1 Axes>"
      ]
     },
     "metadata": {
      "needs_background": "light"
     },
     "output_type": "display_data"
    }
   ],
   "source": [
    "pd.concat([filter_and_measure_length(data_selected, c) for c in columns], axis=1).plot.hist(alpha=0.5, bins=20)"
   ]
  },
  {
   "cell_type": "code",
   "execution_count": null,
   "id": "7d81a8b7",
   "metadata": {},
   "outputs": [],
   "source": []
  }
 ],
 "metadata": {
  "kernelspec": {
   "display_name": "Python 3 (ipykernel)",
   "language": "python",
   "name": "python3"
  },
  "language_info": {
   "codemirror_mode": {
    "name": "ipython",
    "version": 3
   },
   "file_extension": ".py",
   "mimetype": "text/x-python",
   "name": "python",
   "nbconvert_exporter": "python",
   "pygments_lexer": "ipython3",
   "version": "3.9.7"
  }
 },
 "nbformat": 4,
 "nbformat_minor": 5
}
